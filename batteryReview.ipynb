{
 "cells": [
  {
   "cell_type": "code",
   "execution_count": 1,
   "id": "18915b00-982b-48b2-9fb1-8d314b357f04",
   "metadata": {
    "tags": []
   },
   "outputs": [
    {
     "name": "stdout",
     "output_type": "stream",
     "text": [
      "                             DOI  \\\n",
      "0   10.1021/acs.accounts.2c00457   \n",
      "1   10.1021/acs.accounts.0c00555   \n",
      "2   10.1021/acs.accounts.0c00104   \n",
      "3         10.1021/acsami.2c02713   \n",
      "4  10.1021/acsenergylett.2c01838   \n",
      "\n",
      "                                            Abstract  Year  \n",
      "0  ConspectusHoley graphene (hG) is a structural ...  2022  \n",
      "1  ConspectusSulfur-rich metalloproteins and meta...  2020  \n",
      "2  ConspectusThe importance of current Li-ion bat...  2020  \n",
      "3  Single-atom catalysts (SACs) have demonstrated...  2022  \n",
      "4  Titanium disulfide (TiS2), a first-generation ...  2022  \n"
     ]
    }
   ],
   "source": [
    "import pandas as pd\n",
    "df = pd.read_excel('li-s-articles.xlsx')\n",
    "df1=df[[\"DOI\",\"Abstract\",\"Year\"]]\n",
    "print(df1.head())"
   ]
  },
  {
   "cell_type": "code",
   "execution_count": 22,
   "id": "529eab06-44df-4e16-a6fe-16aa1a61825b",
   "metadata": {
    "tags": []
   },
   "outputs": [
    {
     "name": "stdout",
     "output_type": "stream",
     "text": [
      "                                DOI  \\\n",
      "2      10.1021/acs.accounts.0c00104   \n",
      "12    10.1021/acsenergylett.1c01091   \n",
      "18    10.1021/acsenergylett.0c01511   \n",
      "22    10.1021/acsenergylett.9b02347   \n",
      "39          10.1021/acsnano.1c08449   \n",
      "...                             ...   \n",
      "1310         10.1002/smll.202007442   \n",
      "1319         10.1002/smll.202007242   \n",
      "1325         10.1002/smll.202001027   \n",
      "1328         10.1002/smll.202002932   \n",
      "1349         10.1002/smtd.202100176   \n",
      "\n",
      "                                               Abstract  Year  \n",
      "2     ConspectusThe importance of current Li-ion bat...  2020  \n",
      "12    The electroactivity of the sulfur composite ca...  2021  \n",
      "18    In this study, an effective strategy is propos...  2020  \n",
      "22    This is the first practical demonstration of a...  2020  \n",
      "39    Even though lithium-sulfur (Li-S) batteries ha...  2021  \n",
      "...                                                 ...   ...  \n",
      "1310  Detrimental lithium polysulfide (LiPS) shuttle...  2021  \n",
      "1319  Lithium-sulfur (Li-S) batteries are considered...  2021  \n",
      "1325  Lithium-sulfur (Li-S) batteries with a high en...  2020  \n",
      "1328  The shuttle effect of soluble lithium polysulf...  2020  \n",
      "1349  Numerous efforts are made to improve the rever...  2021  \n",
      "\n",
      "[178 rows x 3 columns]\n"
     ]
    }
   ],
   "source": [
    "df2 = df1[df1['Abstract'].str.contains('cathode')]\n",
    "df3 = df2[df2['Abstract'].str.contains('Li-S')]\n",
    "df4=df3[df3['Year'] < 2022]\n",
    "print(df4)"
   ]
  },
  {
   "cell_type": "code",
   "execution_count": 24,
   "id": "00a03707-ebba-4ba5-a744-d44add8db293",
   "metadata": {
    "tags": []
   },
   "outputs": [],
   "source": [
    "df4.to_excel(\"filtered.xlsx\")"
   ]
  },
  {
   "cell_type": "code",
   "execution_count": null,
   "id": "c64d0186-0b04-4f7e-9380-26e1db0ed007",
   "metadata": {},
   "outputs": [],
   "source": []
  }
 ],
 "metadata": {
  "kernelspec": {
   "display_name": "Python 3 (ipykernel)",
   "language": "python",
   "name": "python3"
  },
  "language_info": {
   "codemirror_mode": {
    "name": "ipython",
    "version": 3
   },
   "file_extension": ".py",
   "mimetype": "text/x-python",
   "name": "python",
   "nbconvert_exporter": "python",
   "pygments_lexer": "ipython3",
   "version": "3.10.8"
  }
 },
 "nbformat": 4,
 "nbformat_minor": 5
}
